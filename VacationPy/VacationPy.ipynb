{
 "cells": [
  {
   "cell_type": "code",
   "execution_count": 31,
   "metadata": {},
   "outputs": [],
   "source": [
    "# Dependencies and Setup\n",
    "import matplotlib.pyplot as plt\n",
    "import pandas as pd\n",
    "import numpy as np\n",
    "import requests\n",
    "import gmaps\n",
    "import os\n",
    "\n",
    "# Importing API key\n",
    "from api_keys import g_key\n"
   ]
  },
  {
   "cell_type": "code",
   "execution_count": 32,
   "metadata": {},
   "outputs": [
    {
     "data": {
      "text/html": [
       "<div>\n",
       "<style scoped>\n",
       "    .dataframe tbody tr th:only-of-type {\n",
       "        vertical-align: middle;\n",
       "    }\n",
       "\n",
       "    .dataframe tbody tr th {\n",
       "        vertical-align: top;\n",
       "    }\n",
       "\n",
       "    .dataframe thead th {\n",
       "        text-align: right;\n",
       "    }\n",
       "</style>\n",
       "<table border=\"1\" class=\"dataframe\">\n",
       "  <thead>\n",
       "    <tr style=\"text-align: right;\">\n",
       "      <th></th>\n",
       "      <th>City</th>\n",
       "      <th>Cloudiness</th>\n",
       "      <th>Country</th>\n",
       "      <th>Date</th>\n",
       "      <th>Humidity</th>\n",
       "      <th>Latitude</th>\n",
       "      <th>Longitude</th>\n",
       "      <th>Max Temperature</th>\n",
       "      <th>Wind Speed</th>\n",
       "    </tr>\n",
       "  </thead>\n",
       "  <tbody>\n",
       "    <tr>\n",
       "      <td>0</td>\n",
       "      <td>Rikitea</td>\n",
       "      <td>80</td>\n",
       "      <td>PF</td>\n",
       "      <td>1583711819</td>\n",
       "      <td>85</td>\n",
       "      <td>-23.12</td>\n",
       "      <td>-134.97</td>\n",
       "      <td>78.89</td>\n",
       "      <td>16.75</td>\n",
       "    </tr>\n",
       "    <tr>\n",
       "      <td>1</td>\n",
       "      <td>Ushuaia</td>\n",
       "      <td>75</td>\n",
       "      <td>AR</td>\n",
       "      <td>1583711820</td>\n",
       "      <td>76</td>\n",
       "      <td>-54.80</td>\n",
       "      <td>-68.30</td>\n",
       "      <td>48.20</td>\n",
       "      <td>26.40</td>\n",
       "    </tr>\n",
       "    <tr>\n",
       "      <td>2</td>\n",
       "      <td>Clyde River</td>\n",
       "      <td>90</td>\n",
       "      <td>CA</td>\n",
       "      <td>1583711821</td>\n",
       "      <td>74</td>\n",
       "      <td>70.47</td>\n",
       "      <td>-68.59</td>\n",
       "      <td>-22.00</td>\n",
       "      <td>27.51</td>\n",
       "    </tr>\n",
       "    <tr>\n",
       "      <td>3</td>\n",
       "      <td>Albany</td>\n",
       "      <td>1</td>\n",
       "      <td>US</td>\n",
       "      <td>1583711822</td>\n",
       "      <td>36</td>\n",
       "      <td>42.60</td>\n",
       "      <td>-73.97</td>\n",
       "      <td>50.00</td>\n",
       "      <td>3.36</td>\n",
       "    </tr>\n",
       "    <tr>\n",
       "      <td>4</td>\n",
       "      <td>Punta Arenas</td>\n",
       "      <td>40</td>\n",
       "      <td>CL</td>\n",
       "      <td>1583711823</td>\n",
       "      <td>71</td>\n",
       "      <td>-53.15</td>\n",
       "      <td>-70.92</td>\n",
       "      <td>51.80</td>\n",
       "      <td>23.04</td>\n",
       "    </tr>\n",
       "  </tbody>\n",
       "</table>\n",
       "</div>"
      ],
      "text/plain": [
       "           City  Cloudiness Country        Date  Humidity  Latitude  \\\n",
       "0       Rikitea          80      PF  1583711819        85    -23.12   \n",
       "1       Ushuaia          75      AR  1583711820        76    -54.80   \n",
       "2   Clyde River          90      CA  1583711821        74     70.47   \n",
       "3        Albany           1      US  1583711822        36     42.60   \n",
       "4  Punta Arenas          40      CL  1583711823        71    -53.15   \n",
       "\n",
       "   Longitude  Max Temperature  Wind Speed  \n",
       "0    -134.97            78.89       16.75  \n",
       "1     -68.30            48.20       26.40  \n",
       "2     -68.59           -22.00       27.51  \n",
       "3     -73.97            50.00        3.36  \n",
       "4     -70.92            51.80       23.04  "
      ]
     },
     "execution_count": 32,
     "metadata": {},
     "output_type": "execute_result"
    }
   ],
   "source": [
    "path_file = \"../WeatherPy/output_data_file\"\n",
    "data_file = pd.read_csv(path_file)\n",
    "data_file.head()"
   ]
  },
  {
   "cell_type": "code",
   "execution_count": 34,
   "metadata": {},
   "outputs": [
    {
     "data": {
      "application/vnd.jupyter.widget-view+json": {
       "model_id": "97ebd1d6f06c4d668699248b34f3643f",
       "version_major": 2,
       "version_minor": 0
      },
      "text/plain": [
       "Figure(layout=FigureLayout(border='1px solid black', height='500px', margin='0 auto 0 auto', padding='1px', wi…"
      ]
     },
     "metadata": {},
     "output_type": "display_data"
    }
   ],
   "source": [
    "#Configuring gmaps\n",
    "\n",
    "gmaps.configure(api_key=g_key)\n",
    "\n",
    "coordinates = data_file[[\"Latitude\",\"Longitude\"]]\n",
    "humidity = data_file[\"Humidity\"]\n",
    "\n",
    "# Customize the size of the figure\n",
    "figure_layout = {\n",
    "    'width': '950px',\n",
    "    'height': '500px',\n",
    "    'border': '1px solid black',\n",
    "    'padding': '1px',\n",
    "    'margin': '0 auto 0 auto'\n",
    "}\n",
    "# Plotting Heatmap\n",
    "fig = gmaps.figure(layout =figure_layout)\n",
    "\n",
    "# Creating heat layer\n",
    "heat_layer = gmaps.heatmap_layer(coordinates, weights=humidity, \n",
    "                                 dissipating=False,max_intensity=150,\n",
    "                                 point_radius=3)\n",
    "\n",
    "\n",
    "# Adding layer\n",
    "fig.add_layer(heat_layer)\n",
    "\n",
    "# Display figure\n",
    "fig"
   ]
  },
  {
   "cell_type": "code",
   "execution_count": null,
   "metadata": {},
   "outputs": [],
   "source": [
    "#Create new DataFrame fitting weather criteria\n",
    "#Narrow down the cities to fit weather conditions.\n",
    "#Drop any rows will null values.\n",
    "#Narrow down the DataFrame to find your ideal weather condition. For example:\n",
    "#A max temperature lower than 80 degrees but higher than 70.\n",
    "#Wind speed less than 10 mph.\n",
    "#Zero cloudiness.\n",
    "#Drop any rows that don't contain all three conditions. You want to be sure the weather is ideal.\n",
    "\n"
   ]
  }
 ],
 "metadata": {
  "kernelspec": {
   "display_name": "Python 3",
   "language": "python",
   "name": "python3"
  },
  "language_info": {
   "codemirror_mode": {
    "name": "ipython",
    "version": 3
   },
   "file_extension": ".py",
   "mimetype": "text/x-python",
   "name": "python",
   "nbconvert_exporter": "python",
   "pygments_lexer": "ipython3",
   "version": "3.7.4"
  }
 },
 "nbformat": 4,
 "nbformat_minor": 4
}
